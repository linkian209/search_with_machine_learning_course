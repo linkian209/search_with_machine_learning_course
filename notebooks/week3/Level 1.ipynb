{
 "cells": [
  {
   "cell_type": "markdown",
   "metadata": {},
   "source": [
    "# Base"
   ]
  },
  {
   "cell_type": "markdown",
   "metadata": {},
   "source": [
    "## No alterations to createContentTrainingData.py\n",
    "I set up training data by outputting it into a file, shuffling everything, then running `sed` and `tr` to lowercase everything.\n",
    "For the first run, I ran default fasttext giving me the following results after my test for top 1:\n",
    "```\n",
    "N       9604\n",
    "P@1     0.124\n",
    "R@1     0.124\n",
    "```\n",
    "and for top 5:\n",
    "```\n",
    "N       9604\n",
    "P@5     0.0463\n",
    "R@5     0.232\n",
    "```\n",
    "\n",
    "After changing the learning rate to 1 and running 25 epochs, as well as setting Ngrams to 2, I got much better results:\n",
    "```\n",
    "N       9604\n",
    "P@1     0.612\n",
    "R@1     0.612\n",
    "```\n",
    "and for top 5:\n",
    "```\n",
    "N       9604\n",
    "P@5     0.162\n",
    "R@5     0.808\n",
    "```"
   ]
  },
  {
   "cell_type": "markdown",
   "metadata": {},
   "source": [
    "## Lowercasing all letters and removing punctuation\n",
    "With the default fasttext parameters, we received a top 1 of the following:\n",
    "```\n",
    "N       9677\n",
    "P@1     0.118\n",
    "R@1     0.118\n",
    "```\n",
    "and a top 5 of the following:\n",
    "```\n",
    "N       9677\n",
    "P@5     0.042\n",
    "R@5     0.21\n",
    "```\n",
    "After changing the fast text parameters, we get the following for top 1:\n",
    "```\n",
    "N       9677\n",
    "P@1     0.62\n",
    "R@1     0.62\n",
    "```\n",
    "and for top 5:\n",
    "```\n",
    "N       9677\n",
    "P@5     0.163\n",
    "R@5     0.815\n",
    "```\n",
    "Since in my first test, I used `sed` and `tr` to lowercase letters, and the only thing I did was remove punctuation, I am not surprised these results are similar"
   ]
  },
  {
   "cell_type": "markdown",
   "metadata": {},
   "source": [
    "## Using the NLTK Snowball Stemmer\n",
    "With default fasttext parameters, I received a top 1 of the following:\n",
    "```\n",
    "N       9676\n",
    "P@1     0.127\n",
    "R@1     0.127\n",
    "```\n",
    "and a top 5 of the following:\n",
    "```\n",
    "N       9676\n",
    "P@5     0.0431\n",
    "R@5     0.216\n",
    "```\n",
    "After changing the fasttext parameters, I got the following for top 1:\n",
    "```\n",
    "N       9676\n",
    "P@1     0.616\n",
    "R@1     0.616\n",
    "```\n",
    "and for top 5:\n",
    "```\n",
    "N       9676\n",
    "P@5     0.158\n",
    "R@5     0.788\n",
    "```"
   ]
  },
  {
   "cell_type": "markdown",
   "metadata": {},
   "source": [
    "# Testing for min_products"
   ]
  },
  {
   "cell_type": "code",
   "execution_count": 2,
   "metadata": {},
   "outputs": [],
   "source": [
    "import pandas as pd"
   ]
  },
  {
   "cell_type": "code",
   "execution_count": 67,
   "metadata": {},
   "outputs": [],
   "source": [
    "data = {'category': ['a', 'b', 'c', 'a'], 'product':[1,2,3,4]}\n",
    "df = pd.DataFrame(data=data)"
   ]
  },
  {
   "cell_type": "code",
   "execution_count": 71,
   "metadata": {},
   "outputs": [
    {
     "data": {
      "text/plain": [
       "0    a\n",
       "1    b\n",
       "2    c\n",
       "3    a\n",
       "Name: category, dtype: object"
      ]
     },
     "execution_count": 71,
     "metadata": {},
     "output_type": "execute_result"
    }
   ],
   "source": [
    "df['category']"
   ]
  },
  {
   "cell_type": "code",
   "execution_count": 94,
   "metadata": {},
   "outputs": [
    {
     "data": {
      "text/plain": [
       "['__label__a 1', '__label__a 4']"
      ]
     },
     "execution_count": 94,
     "metadata": {},
     "output_type": "execute_result"
    }
   ],
   "source": [
    "# This is the winner! This removes all rows from the dataframe where the category has more than x records (x being 1 here)\n",
    "categories = df['category'].value_counts()[lambda x: x <= 1].index\n",
    "df.drop(df['category'].isin(categories)[lambda x: x].index, inplace=True)\n",
    "[x for x in df.apply(lambda x: f\"__label__{x['category']} {x['product']}\", axis=1).values]"
   ]
  },
  {
   "cell_type": "code",
   "execution_count": 10,
   "metadata": {},
   "outputs": [
    {
     "data": {
      "text/plain": [
       "0    a\n",
       "3    a\n",
       "Name: category, dtype: object"
      ]
     },
     "execution_count": 10,
     "metadata": {},
     "output_type": "execute_result"
    }
   ],
   "source": [
    "df.groupby('category').filter(lambda x: len(x) > 1)['category']"
   ]
  },
  {
   "cell_type": "code",
   "execution_count": 12,
   "metadata": {},
   "outputs": [
    {
     "data": {
      "text/plain": [
       "0    a\n",
       "3    a\n",
       "Name: category, dtype: object"
      ]
     },
     "execution_count": 12,
     "metadata": {},
     "output_type": "execute_result"
    }
   ],
   "source": [
    "df[df.groupby(\"category\")[\"category\"].transform('size') > 1]['category']"
   ]
  },
  {
   "cell_type": "code",
   "execution_count": 13,
   "metadata": {},
   "outputs": [
    {
     "data": {
      "text/plain": [
       "0    a\n",
       "3    a\n",
       "Name: category, dtype: object"
      ]
     },
     "execution_count": 13,
     "metadata": {},
     "output_type": "execute_result"
    }
   ],
   "source": [
    "df[df['category'].map(df['category'].value_counts()) > 1]['category']"
   ]
  },
  {
   "cell_type": "markdown",
   "metadata": {},
   "source": [
    "# Minimum Products"
   ]
  },
  {
   "cell_type": "markdown",
   "metadata": {},
   "source": [
    "## min_products = 2\n",
    "### Default Parameters\n",
    "Top 1\n",
    "```\n",
    "N       9682\n",
    "P@1     0.118\n",
    "R@1     0.118\n",
    "```\n",
    "Top 5\n",
    "```\n",
    "N       9682\n",
    "P@5     0.0432\n",
    "R@5     0.216\n",
    "```\n",
    "### Finer Training\n",
    "Top 1\n",
    "```\n",
    "N       9682\n",
    "P@1     0.612\n",
    "R@1     0.612\n",
    "```\n",
    "Top 5\n",
    "```\n",
    "N       9682\n",
    "P@5     0.162\n",
    "R@5     0.808\n",
    "```"
   ]
  },
  {
   "cell_type": "markdown",
   "metadata": {},
   "source": [
    "## min_products = 5\n",
    "### Default Parameters\n",
    "Top 1\n",
    "```\n",
    "N       9698\n",
    "P@1     0.128\n",
    "R@1     0.128\n",
    "```\n",
    "Top 5\n",
    "```\n",
    "N       9698\n",
    "P@5     0.0449\n",
    "R@5     0.224\n",
    "```\n",
    "### Finer Training\n",
    "Top 1\n",
    "```\n",
    "N       9698\n",
    "P@1     0.609\n",
    "R@1     0.609\n",
    "```\n",
    "Top 5\n",
    "```\n",
    "N       9698\n",
    "P@5     0.161\n",
    "R@5     0.806\n",
    "```"
   ]
  },
  {
   "cell_type": "markdown",
   "metadata": {},
   "source": [
    "## min_products = 10\n",
    "### Default Parameters\n",
    "Top 1\n",
    "```\n",
    "N       9811\n",
    "P@1     0.123\n",
    "R@1     0.123\n",
    "```\n",
    "Top 5\n",
    "```\n",
    "N       9811\n",
    "P@5     0.0451\n",
    "R@5     0.226\n",
    "```\n",
    "### Finer Training\n",
    "Top 1\n",
    "```\n",
    "N       9811\n",
    "P@1     0.627\n",
    "R@1     0.627\n",
    "```\n",
    "Top 5\n",
    "```\n",
    "N       9811\n",
    "P@5     0.166\n",
    "R@5     0.83\n",
    "```"
   ]
  },
  {
   "cell_type": "code",
   "execution_count": null,
   "metadata": {},
   "outputs": [],
   "source": []
  }
 ],
 "metadata": {
  "kernelspec": {
   "display_name": "Python 3 (ipykernel)",
   "language": "python",
   "name": "python3"
  },
  "language_info": {
   "codemirror_mode": {
    "name": "ipython",
    "version": 3
   },
   "file_extension": ".py",
   "mimetype": "text/x-python",
   "name": "python",
   "nbconvert_exporter": "python",
   "pygments_lexer": "ipython3",
   "version": "3.9.7"
  }
 },
 "nbformat": 4,
 "nbformat_minor": 2
}
